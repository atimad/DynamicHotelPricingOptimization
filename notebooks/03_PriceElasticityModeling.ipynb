{
 "cells": [
  {
   "cell_type": "markdown",
   "id": "305a2ee0",
   "metadata": {},
   "source": [
    "# 🏨 Dynamic Hotel Pricing Optimization\n",
    "## 📉 03_Price Elasticity Modeling\n",
    "\n",
    "**Goal:** Model how booking demand responds to changes in price, and estimate optimal pricing zones.\n"
   ]
  },
  {
   "cell_type": "code",
   "execution_count": 1,
   "id": "cbcfa6f2",
   "metadata": {},
   "outputs": [
    {
     "data": {
      "application/vnd.microsoft.datawrangler.viewer.v0+json": {
       "columns": [
        {
         "name": "index",
         "rawType": "int64",
         "type": "integer"
        },
        {
         "name": "hotel",
         "rawType": "object",
         "type": "string"
        },
        {
         "name": "is_canceled",
         "rawType": "int64",
         "type": "integer"
        },
        {
         "name": "lead_time",
         "rawType": "int64",
         "type": "integer"
        },
        {
         "name": "arrival_date_year",
         "rawType": "int64",
         "type": "integer"
        },
        {
         "name": "arrival_date_month",
         "rawType": "object",
         "type": "string"
        },
        {
         "name": "arrival_date_week_number",
         "rawType": "int64",
         "type": "integer"
        },
        {
         "name": "arrival_date_day_of_month",
         "rawType": "int64",
         "type": "integer"
        },
        {
         "name": "stays_in_weekend_nights",
         "rawType": "int64",
         "type": "integer"
        },
        {
         "name": "stays_in_week_nights",
         "rawType": "int64",
         "type": "integer"
        },
        {
         "name": "adults",
         "rawType": "int64",
         "type": "integer"
        },
        {
         "name": "children",
         "rawType": "float64",
         "type": "float"
        },
        {
         "name": "babies",
         "rawType": "int64",
         "type": "integer"
        },
        {
         "name": "meal",
         "rawType": "object",
         "type": "string"
        },
        {
         "name": "country",
         "rawType": "object",
         "type": "string"
        },
        {
         "name": "market_segment",
         "rawType": "object",
         "type": "string"
        },
        {
         "name": "distribution_channel",
         "rawType": "object",
         "type": "string"
        },
        {
         "name": "is_repeated_guest",
         "rawType": "int64",
         "type": "integer"
        },
        {
         "name": "previous_cancellations",
         "rawType": "int64",
         "type": "integer"
        },
        {
         "name": "previous_bookings_not_canceled",
         "rawType": "int64",
         "type": "integer"
        },
        {
         "name": "reserved_room_type",
         "rawType": "object",
         "type": "string"
        },
        {
         "name": "assigned_room_type",
         "rawType": "object",
         "type": "string"
        },
        {
         "name": "booking_changes",
         "rawType": "int64",
         "type": "integer"
        },
        {
         "name": "deposit_type",
         "rawType": "object",
         "type": "string"
        },
        {
         "name": "agent",
         "rawType": "float64",
         "type": "float"
        },
        {
         "name": "company",
         "rawType": "float64",
         "type": "float"
        },
        {
         "name": "days_in_waiting_list",
         "rawType": "int64",
         "type": "integer"
        },
        {
         "name": "customer_type",
         "rawType": "object",
         "type": "string"
        },
        {
         "name": "adr",
         "rawType": "float64",
         "type": "float"
        },
        {
         "name": "required_car_parking_spaces",
         "rawType": "int64",
         "type": "integer"
        },
        {
         "name": "total_of_special_requests",
         "rawType": "int64",
         "type": "integer"
        },
        {
         "name": "reservation_status",
         "rawType": "object",
         "type": "string"
        },
        {
         "name": "reservation_status_date",
         "rawType": "object",
         "type": "string"
        }
       ],
       "ref": "58be582b-de18-4bc6-825c-98fbd4a5c7e6",
       "rows": [
        [
         "0",
         "Resort Hotel",
         "0",
         "342",
         "2015",
         "July",
         "27",
         "1",
         "0",
         "0",
         "2",
         "0.0",
         "0",
         "BB",
         "PRT",
         "Direct",
         "Direct",
         "0",
         "0",
         "0",
         "C",
         "C",
         "3",
         "No Deposit",
         null,
         null,
         "0",
         "Transient",
         "0.0",
         "0",
         "0",
         "Check-Out",
         "2015-07-01"
        ],
        [
         "1",
         "Resort Hotel",
         "0",
         "737",
         "2015",
         "July",
         "27",
         "1",
         "0",
         "0",
         "2",
         "0.0",
         "0",
         "BB",
         "PRT",
         "Direct",
         "Direct",
         "0",
         "0",
         "0",
         "C",
         "C",
         "4",
         "No Deposit",
         null,
         null,
         "0",
         "Transient",
         "0.0",
         "0",
         "0",
         "Check-Out",
         "2015-07-01"
        ],
        [
         "2",
         "Resort Hotel",
         "0",
         "7",
         "2015",
         "July",
         "27",
         "1",
         "0",
         "1",
         "1",
         "0.0",
         "0",
         "BB",
         "GBR",
         "Direct",
         "Direct",
         "0",
         "0",
         "0",
         "A",
         "C",
         "0",
         "No Deposit",
         null,
         null,
         "0",
         "Transient",
         "75.0",
         "0",
         "0",
         "Check-Out",
         "2015-07-02"
        ],
        [
         "3",
         "Resort Hotel",
         "0",
         "13",
         "2015",
         "July",
         "27",
         "1",
         "0",
         "1",
         "1",
         "0.0",
         "0",
         "BB",
         "GBR",
         "Corporate",
         "Corporate",
         "0",
         "0",
         "0",
         "A",
         "A",
         "0",
         "No Deposit",
         "304.0",
         null,
         "0",
         "Transient",
         "75.0",
         "0",
         "0",
         "Check-Out",
         "2015-07-02"
        ],
        [
         "4",
         "Resort Hotel",
         "0",
         "14",
         "2015",
         "July",
         "27",
         "1",
         "0",
         "2",
         "2",
         "0.0",
         "0",
         "BB",
         "GBR",
         "Online TA",
         "TA/TO",
         "0",
         "0",
         "0",
         "A",
         "A",
         "0",
         "No Deposit",
         "240.0",
         null,
         "0",
         "Transient",
         "98.0",
         "0",
         "1",
         "Check-Out",
         "2015-07-03"
        ]
       ],
       "shape": {
        "columns": 32,
        "rows": 5
       }
      },
      "text/html": [
       "<div>\n",
       "<style scoped>\n",
       "    .dataframe tbody tr th:only-of-type {\n",
       "        vertical-align: middle;\n",
       "    }\n",
       "\n",
       "    .dataframe tbody tr th {\n",
       "        vertical-align: top;\n",
       "    }\n",
       "\n",
       "    .dataframe thead th {\n",
       "        text-align: right;\n",
       "    }\n",
       "</style>\n",
       "<table border=\"1\" class=\"dataframe\">\n",
       "  <thead>\n",
       "    <tr style=\"text-align: right;\">\n",
       "      <th></th>\n",
       "      <th>hotel</th>\n",
       "      <th>is_canceled</th>\n",
       "      <th>lead_time</th>\n",
       "      <th>arrival_date_year</th>\n",
       "      <th>arrival_date_month</th>\n",
       "      <th>arrival_date_week_number</th>\n",
       "      <th>arrival_date_day_of_month</th>\n",
       "      <th>stays_in_weekend_nights</th>\n",
       "      <th>stays_in_week_nights</th>\n",
       "      <th>adults</th>\n",
       "      <th>...</th>\n",
       "      <th>deposit_type</th>\n",
       "      <th>agent</th>\n",
       "      <th>company</th>\n",
       "      <th>days_in_waiting_list</th>\n",
       "      <th>customer_type</th>\n",
       "      <th>adr</th>\n",
       "      <th>required_car_parking_spaces</th>\n",
       "      <th>total_of_special_requests</th>\n",
       "      <th>reservation_status</th>\n",
       "      <th>reservation_status_date</th>\n",
       "    </tr>\n",
       "  </thead>\n",
       "  <tbody>\n",
       "    <tr>\n",
       "      <th>0</th>\n",
       "      <td>Resort Hotel</td>\n",
       "      <td>0</td>\n",
       "      <td>342</td>\n",
       "      <td>2015</td>\n",
       "      <td>July</td>\n",
       "      <td>27</td>\n",
       "      <td>1</td>\n",
       "      <td>0</td>\n",
       "      <td>0</td>\n",
       "      <td>2</td>\n",
       "      <td>...</td>\n",
       "      <td>No Deposit</td>\n",
       "      <td>NaN</td>\n",
       "      <td>NaN</td>\n",
       "      <td>0</td>\n",
       "      <td>Transient</td>\n",
       "      <td>0.0</td>\n",
       "      <td>0</td>\n",
       "      <td>0</td>\n",
       "      <td>Check-Out</td>\n",
       "      <td>2015-07-01</td>\n",
       "    </tr>\n",
       "    <tr>\n",
       "      <th>1</th>\n",
       "      <td>Resort Hotel</td>\n",
       "      <td>0</td>\n",
       "      <td>737</td>\n",
       "      <td>2015</td>\n",
       "      <td>July</td>\n",
       "      <td>27</td>\n",
       "      <td>1</td>\n",
       "      <td>0</td>\n",
       "      <td>0</td>\n",
       "      <td>2</td>\n",
       "      <td>...</td>\n",
       "      <td>No Deposit</td>\n",
       "      <td>NaN</td>\n",
       "      <td>NaN</td>\n",
       "      <td>0</td>\n",
       "      <td>Transient</td>\n",
       "      <td>0.0</td>\n",
       "      <td>0</td>\n",
       "      <td>0</td>\n",
       "      <td>Check-Out</td>\n",
       "      <td>2015-07-01</td>\n",
       "    </tr>\n",
       "    <tr>\n",
       "      <th>2</th>\n",
       "      <td>Resort Hotel</td>\n",
       "      <td>0</td>\n",
       "      <td>7</td>\n",
       "      <td>2015</td>\n",
       "      <td>July</td>\n",
       "      <td>27</td>\n",
       "      <td>1</td>\n",
       "      <td>0</td>\n",
       "      <td>1</td>\n",
       "      <td>1</td>\n",
       "      <td>...</td>\n",
       "      <td>No Deposit</td>\n",
       "      <td>NaN</td>\n",
       "      <td>NaN</td>\n",
       "      <td>0</td>\n",
       "      <td>Transient</td>\n",
       "      <td>75.0</td>\n",
       "      <td>0</td>\n",
       "      <td>0</td>\n",
       "      <td>Check-Out</td>\n",
       "      <td>2015-07-02</td>\n",
       "    </tr>\n",
       "    <tr>\n",
       "      <th>3</th>\n",
       "      <td>Resort Hotel</td>\n",
       "      <td>0</td>\n",
       "      <td>13</td>\n",
       "      <td>2015</td>\n",
       "      <td>July</td>\n",
       "      <td>27</td>\n",
       "      <td>1</td>\n",
       "      <td>0</td>\n",
       "      <td>1</td>\n",
       "      <td>1</td>\n",
       "      <td>...</td>\n",
       "      <td>No Deposit</td>\n",
       "      <td>304.0</td>\n",
       "      <td>NaN</td>\n",
       "      <td>0</td>\n",
       "      <td>Transient</td>\n",
       "      <td>75.0</td>\n",
       "      <td>0</td>\n",
       "      <td>0</td>\n",
       "      <td>Check-Out</td>\n",
       "      <td>2015-07-02</td>\n",
       "    </tr>\n",
       "    <tr>\n",
       "      <th>4</th>\n",
       "      <td>Resort Hotel</td>\n",
       "      <td>0</td>\n",
       "      <td>14</td>\n",
       "      <td>2015</td>\n",
       "      <td>July</td>\n",
       "      <td>27</td>\n",
       "      <td>1</td>\n",
       "      <td>0</td>\n",
       "      <td>2</td>\n",
       "      <td>2</td>\n",
       "      <td>...</td>\n",
       "      <td>No Deposit</td>\n",
       "      <td>240.0</td>\n",
       "      <td>NaN</td>\n",
       "      <td>0</td>\n",
       "      <td>Transient</td>\n",
       "      <td>98.0</td>\n",
       "      <td>0</td>\n",
       "      <td>1</td>\n",
       "      <td>Check-Out</td>\n",
       "      <td>2015-07-03</td>\n",
       "    </tr>\n",
       "  </tbody>\n",
       "</table>\n",
       "<p>5 rows × 32 columns</p>\n",
       "</div>"
      ],
      "text/plain": [
       "          hotel  is_canceled  lead_time  arrival_date_year arrival_date_month  \\\n",
       "0  Resort Hotel            0        342               2015               July   \n",
       "1  Resort Hotel            0        737               2015               July   \n",
       "2  Resort Hotel            0          7               2015               July   \n",
       "3  Resort Hotel            0         13               2015               July   \n",
       "4  Resort Hotel            0         14               2015               July   \n",
       "\n",
       "   arrival_date_week_number  arrival_date_day_of_month  \\\n",
       "0                        27                          1   \n",
       "1                        27                          1   \n",
       "2                        27                          1   \n",
       "3                        27                          1   \n",
       "4                        27                          1   \n",
       "\n",
       "   stays_in_weekend_nights  stays_in_week_nights  adults  ...  deposit_type  \\\n",
       "0                        0                     0       2  ...    No Deposit   \n",
       "1                        0                     0       2  ...    No Deposit   \n",
       "2                        0                     1       1  ...    No Deposit   \n",
       "3                        0                     1       1  ...    No Deposit   \n",
       "4                        0                     2       2  ...    No Deposit   \n",
       "\n",
       "   agent company days_in_waiting_list customer_type   adr  \\\n",
       "0    NaN     NaN                    0     Transient   0.0   \n",
       "1    NaN     NaN                    0     Transient   0.0   \n",
       "2    NaN     NaN                    0     Transient  75.0   \n",
       "3  304.0     NaN                    0     Transient  75.0   \n",
       "4  240.0     NaN                    0     Transient  98.0   \n",
       "\n",
       "   required_car_parking_spaces  total_of_special_requests  reservation_status  \\\n",
       "0                            0                          0           Check-Out   \n",
       "1                            0                          0           Check-Out   \n",
       "2                            0                          0           Check-Out   \n",
       "3                            0                          0           Check-Out   \n",
       "4                            0                          1           Check-Out   \n",
       "\n",
       "  reservation_status_date  \n",
       "0              2015-07-01  \n",
       "1              2015-07-01  \n",
       "2              2015-07-02  \n",
       "3              2015-07-02  \n",
       "4              2015-07-03  \n",
       "\n",
       "[5 rows x 32 columns]"
      ]
     },
     "execution_count": 1,
     "metadata": {},
     "output_type": "execute_result"
    }
   ],
   "source": [
    "# 1️⃣ Load Data\n",
    "import pandas as pd\n",
    "\n",
    "df = pd.read_csv('../data/raw/hotel_bookings.csv')\n",
    "\n",
    "# Filter to completed bookings only (exclude cancellations)\n",
    "df = df[df['is_canceled'] == 0]\n",
    "\n",
    "df.head()\n"
   ]
  },
  {
   "cell_type": "code",
   "execution_count": 2,
   "id": "c224a076",
   "metadata": {},
   "outputs": [
    {
     "name": "stderr",
     "output_type": "stream",
     "text": [
      "C:\\Users\\atima\\AppData\\Local\\Temp\\ipykernel_17828\\1096299440.py:7: FutureWarning: The default of observed=False is deprecated and will be changed to True in a future version of pandas. Pass observed=False to retain current behavior or observed=True to adopt the future default and silence this warning.\n",
      "  demand_by_price = df.groupby('price_bucket').size().reset_index(name='bookings')\n"
     ]
    },
    {
     "data": {
      "application/vnd.microsoft.datawrangler.viewer.v0+json": {
       "columns": [
        {
         "name": "index",
         "rawType": "int64",
         "type": "integer"
        },
        {
         "name": "price_bucket",
         "rawType": "category",
         "type": "unknown"
        },
        {
         "name": "bookings",
         "rawType": "int64",
         "type": "integer"
        }
       ],
       "ref": "d94fb64a-8002-47da-bf11-00d4b36abff7",
       "rows": [
        [
         "0",
         "(0, 50]",
         "7706"
        ],
        [
         "1",
         "(50, 100]",
         "33972"
        ],
        [
         "2",
         "(100, 150]",
         "21520"
        ],
        [
         "3",
         "(150, 200]",
         "7184"
        ],
        [
         "4",
         "(200, 300]",
         "2848"
        ],
        [
         "5",
         "(300, 500]",
         "187"
        ],
        [
         "6",
         "(500, 1000]",
         "2"
        ]
       ],
       "shape": {
        "columns": 2,
        "rows": 7
       }
      },
      "text/html": [
       "<div>\n",
       "<style scoped>\n",
       "    .dataframe tbody tr th:only-of-type {\n",
       "        vertical-align: middle;\n",
       "    }\n",
       "\n",
       "    .dataframe tbody tr th {\n",
       "        vertical-align: top;\n",
       "    }\n",
       "\n",
       "    .dataframe thead th {\n",
       "        text-align: right;\n",
       "    }\n",
       "</style>\n",
       "<table border=\"1\" class=\"dataframe\">\n",
       "  <thead>\n",
       "    <tr style=\"text-align: right;\">\n",
       "      <th></th>\n",
       "      <th>price_bucket</th>\n",
       "      <th>bookings</th>\n",
       "    </tr>\n",
       "  </thead>\n",
       "  <tbody>\n",
       "    <tr>\n",
       "      <th>0</th>\n",
       "      <td>(0, 50]</td>\n",
       "      <td>7706</td>\n",
       "    </tr>\n",
       "    <tr>\n",
       "      <th>1</th>\n",
       "      <td>(50, 100]</td>\n",
       "      <td>33972</td>\n",
       "    </tr>\n",
       "    <tr>\n",
       "      <th>2</th>\n",
       "      <td>(100, 150]</td>\n",
       "      <td>21520</td>\n",
       "    </tr>\n",
       "    <tr>\n",
       "      <th>3</th>\n",
       "      <td>(150, 200]</td>\n",
       "      <td>7184</td>\n",
       "    </tr>\n",
       "    <tr>\n",
       "      <th>4</th>\n",
       "      <td>(200, 300]</td>\n",
       "      <td>2848</td>\n",
       "    </tr>\n",
       "    <tr>\n",
       "      <th>5</th>\n",
       "      <td>(300, 500]</td>\n",
       "      <td>187</td>\n",
       "    </tr>\n",
       "    <tr>\n",
       "      <th>6</th>\n",
       "      <td>(500, 1000]</td>\n",
       "      <td>2</td>\n",
       "    </tr>\n",
       "  </tbody>\n",
       "</table>\n",
       "</div>"
      ],
      "text/plain": [
       "  price_bucket  bookings\n",
       "0      (0, 50]      7706\n",
       "1    (50, 100]     33972\n",
       "2   (100, 150]     21520\n",
       "3   (150, 200]      7184\n",
       "4   (200, 300]      2848\n",
       "5   (300, 500]       187\n",
       "6  (500, 1000]         2"
      ]
     },
     "execution_count": 2,
     "metadata": {},
     "output_type": "execute_result"
    }
   ],
   "source": [
    "# 2️⃣ Aggregate Price & Demand\n",
    "\n",
    "# Group by price buckets → example simple binning\n",
    "df['price_bucket'] = pd.cut(df['adr'], bins=[0, 50, 100, 150, 200, 300, 500, 1000])\n",
    "\n",
    "# Count bookings per price bucket\n",
    "demand_by_price = df.groupby('price_bucket').size().reset_index(name='bookings')\n",
    "\n",
    "demand_by_price\n"
   ]
  },
  {
   "cell_type": "code",
   "execution_count": 3,
   "id": "561dc583",
   "metadata": {},
   "outputs": [
    {
     "data": {
      "image/png": "[encoded data removed]",
      "text/plain": [
       "<Figure size 800x600 with 1 Axes>"
      ]
     },
     "metadata": {},
     "output_type": "display_data"
    }
   ],
   "source": [
    "# 3️⃣ Plot Demand vs Price\n",
    "\n",
    "import matplotlib.pyplot as plt\n",
    "\n",
    "# Midpoint of each bucket → simple estimate\n",
    "demand_by_price['price_mid'] = demand_by_price['price_bucket'].apply(lambda x: x.mid)\n",
    "\n",
    "plt.figure(figsize=(8,6))\n",
    "plt.plot(demand_by_price['price_mid'], demand_by_price['bookings'], marker='o')\n",
    "plt.title('Bookings vs Price (Elasticity Curve)')\n",
    "plt.xlabel('Price (Midpoint of Bucket)')\n",
    "plt.ylabel('Number of Bookings')\n",
    "plt.grid()\n",
    "plt.show()\n"
   ]
  },
  {
   "cell_type": "code",
   "execution_count": 4,
   "id": "a8323338",
   "metadata": {},
   "outputs": [
    {
     "name": "stdout",
     "output_type": "stream",
     "text": [
      "                            OLS Regression Results                            \n",
      "==============================================================================\n",
      "Dep. Variable:               bookings   R-squared:                       0.598\n",
      "Model:                            OLS   Adj. R-squared:                  0.518\n",
      "Method:                 Least Squares   F-statistic:                     7.441\n",
      "Date:                Sat, 05 Jul 2025   Prob (F-statistic):             0.0414\n",
      "Time:                        20:15:04   Log-Likelihood:                -14.821\n",
      "No. Observations:                   7   AIC:                             33.64\n",
      "Df Residuals:                       5   BIC:                             33.53\n",
      "Df Model:                           1                                         \n",
      "Covariance Type:            nonrobust                                         \n",
      "==============================================================================\n",
      "                 coef    std err          t      P>|t|      [0.025      0.975]\n",
      "------------------------------------------------------------------------------\n",
      "const         19.5084      4.513      4.323      0.008       7.909      31.108\n",
      "price_mid     -2.3678      0.868     -2.728      0.041      -4.599      -0.137\n",
      "==============================================================================\n",
      "Omnibus:                          nan   Durbin-Watson:                   1.033\n",
      "Prob(Omnibus):                    nan   Jarque-Bera (JB):                1.053\n",
      "Skew:                          -0.709   Prob(JB):                        0.591\n",
      "Kurtosis:                       1.734   Cond. No.                         27.0\n",
      "==============================================================================\n",
      "\n",
      "Notes:\n",
      "[1] Standard Errors assume that the covariance matrix of the errors is correctly specified.\n"
     ]
    },
    {
     "name": "stderr",
     "output_type": "stream",
     "text": [
      "c:\\GitHub\\DynamicHotelPricingOptimization\\.venv\\Lib\\site-packages\\statsmodels\\stats\\stattools.py:74: ValueWarning: omni_normtest is not valid with less than 8 observations; 7 samples were given.\n",
      "  warn(\"omni_normtest is not valid with less than 8 observations; %i \"\n"
     ]
    }
   ],
   "source": [
    "# 4️⃣ Log-Log Regression (Elasticity Estimate)\n",
    "\n",
    "import numpy as np\n",
    "import statsmodels.api as sm\n",
    "\n",
    "# Prepare log-log data\n",
    "demand_by_price['price_mid'] = demand_by_price['price_mid'].astype(float)\n",
    "X = np.log(demand_by_price['price_mid'])\n",
    "y = np.log(demand_by_price['bookings'])\n",
    "\n",
    "X = sm.add_constant(X)  # add intercept\n",
    "model = sm.OLS(y, X).fit()\n",
    "\n",
    "print(model.summary())\n",
    "\n",
    "# Elasticity ≈ slope coefficient → % change in demand per % change in price\n"
   ]
  },
  {
   "cell_type": "code",
   "execution_count": 5,
   "id": "8f0572dc",
   "metadata": {},
   "outputs": [
    {
     "data": {
      "image/png": "[encoded data removed]",
      "text/plain": [
       "<Figure size 800x600 with 1 Axes>"
      ]
     },
     "metadata": {},
     "output_type": "display_data"
    }
   ],
   "source": [
    "# 5️⃣ Visualize Fitted Elasticity Curve\n",
    "\n",
    "y_pred = model.predict(X)\n",
    "\n",
    "plt.figure(figsize=(8,6))\n",
    "plt.scatter(np.log(demand_by_price['price_mid']), np.log(demand_by_price['bookings']), label='Observed')\n",
    "plt.plot(np.log(demand_by_price['price_mid']), y_pred, color='red', label='Fitted Line')\n",
    "plt.title('Log-Log Elasticity Model')\n",
    "plt.xlabel('log(Price)')\n",
    "plt.ylabel('log(Bookings)')\n",
    "plt.legend()\n",
    "plt.grid()\n",
    "plt.show()\n"
   ]
  },
  {
   "cell_type": "code",
   "execution_count": null,
   "id": "26e415bd",
   "metadata": {},
   "outputs": [],
   "source": []
  }
 ],
 "metadata": {
  "kernelspec": {
   "display_name": ".venv",
   "language": "python",
   "name": "python3"
  },
  "language_info": {
   "codemirror_mode": {
    "name": "ipython",
    "version": 3
   },
   "file_extension": ".py",
   "mimetype": "text/x-python",
   "name": "python",
   "nbconvert_exporter": "python",
   "pygments_lexer": "ipython3",
   "version": "3.12.4"
  }
 },
 "nbformat": 4,
 "nbformat_minor": 5
}
